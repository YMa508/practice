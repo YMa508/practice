{
 "cells": [
  {
   "cell_type": "markdown",
   "metadata": {},
   "source": [
    "# Actual Interview Questions"
   ]
  },
  {
   "cell_type": "markdown",
   "metadata": {},
   "source": [
    "These are questions I have personally been asked, together with their solutions."
   ]
  },
  {
   "cell_type": "markdown",
   "metadata": {},
   "source": [
    "[Zalando R1](#zalando-first-round)"
   ]
  },
  {
   "cell_type": "markdown",
   "metadata": {},
   "source": [
    "## Zalando First Round"
   ]
  },
  {
   "cell_type": "markdown",
   "metadata": {},
   "source": [
    "Position: Senior Data Scientist - Pricing & Forecasting"
   ]
  },
  {
   "cell_type": "markdown",
   "metadata": {},
   "source": [
    "### Explain a related role."
   ]
  },
  {
   "cell_type": "markdown",
   "metadata": {},
   "source": [
    "I explained my experience forecasting consumer loan defaults and prepayments at a bank. I had to explain each step in some detail, including data munging, feature extraction, hyperparameter selection, the surrogate loss used for training, and the backtesting procedure used for final model evaluation. Backtesting, in particular, is important because it's not frequently found in stats/ML textbooks but it's fundamental for evaluating forecasting methods."
   ]
  },
  {
   "cell_type": "markdown",
   "metadata": {},
   "source": [
    "### Given a fair 6-sided die, emulate a fair 5-sided die."
   ]
  },
  {
   "cell_type": "markdown",
   "metadata": {},
   "source": [
    "You can emulate a 5-sided die roll by rolling the 6-sided die. If you get 1-5, then use that number. If you get a 6, then reroll until you get 1-5.\n",
    "\n",
    "The distribution of the final result is the same as the distribution of a fair 5-sided die roll. Intuitively, there is no reason that rerolling on a 6 would break the symmetry between the 1-5 outcomes."
   ]
  },
  {
   "cell_type": "markdown",
   "metadata": {},
   "source": [
    "### Given a fair 6-sided die, emulate a fair 7-sided die."
   ]
  },
  {
   "cell_type": "markdown",
   "metadata": {},
   "source": [
    "Rolling the 6-sided die twice gives you one of 36 possible outcomes, all with equal probability $\\frac{1}{36}$. Write these in a list and you can view these two rolls as a single roll from a fair 36-sided die. Now set aside one outcome and divide the remaining 35 into 7 sets of 5 outcomes each. Number these sets 1-7.\n",
    "\n",
    "Now roll the 6-sided die twice and determine which of the sets the outcome falls into; use its numeric label as the result of the \"7-sided die\" roll. If you get the outcome you set aside, reroll until you get something else."
   ]
  },
  {
   "cell_type": "markdown",
   "metadata": {},
   "source": [
    "### Calculate the average number of rolls required to get your first 4. Don't appeal to any specific named probability distributions."
   ]
  },
  {
   "cell_type": "markdown",
   "metadata": {},
   "source": [
    "The probability of getting a 4 on roll $n$ is $\\left( \\frac{5}{6} \\right)^{n - 1} \\left( \\frac{1}{6} \\right)$. Now the mean number of rolls is the probability-weighted sum of all possible numbers of rolls required for a 4:\n",
    "\\begin{eqnarray}\n",
    "\\sum_{n = 1}^\\infty (1 - p)^{n - 1} p n &=& p \\sum_{n = 1}^\\infty (1 - p)^{n - 1} n \\\\\n",
    "&=& -p \\sum_{n = 1}^\\infty \\frac{d}{dp} (1 - p)^n \\\\\n",
    "&=& -p \\frac{d}{dp} \\sum_{n = 1}^\\infty (1 - p)^n \\\\\n",
    "&=& -p \\left[ \\frac{d}{dp} \\left( \\frac{1}{p} \\right) \\right] \\\\\n",
    "&=& -p \\left( \\frac{-1}{p^2} \\right) \\\\\n",
    "&=& \\frac{1}{p} \\\\\n",
    "\\end{eqnarray}\n",
    "In this case, $p = \\frac{1}{6}$, so the number of rolls required is 6."
   ]
  },
  {
   "cell_type": "markdown",
   "metadata": {},
   "source": [
    "### Explain where the logistic regression model comes from."
   ]
  },
  {
   "cell_type": "markdown",
   "metadata": {},
   "source": [
    "Each $y_i$ is modeled as an independent coin flip (Bernoulli random variable), where the probability of a \"heads\" (or $1$) is $\\sigma(\\mathbf{x}_i^T \\mathbf{\\beta})$. The resulting likelihood function is then:\n",
    "$$ L(\\mathbf{\\beta}) = \\prod_{i = 1}^n [\\sigma(\\mathbf{x}_i^T \\mathbf{\\beta})]^{y_i} [1 - \\sigma(\\mathbf{x}_i^T \\mathbf{\\beta})]^{1 - y_i} $$\n",
    "This (or the corresponding log-likelihood) is maximized to fit the model."
   ]
  },
  {
   "cell_type": "markdown",
   "metadata": {},
   "source": [
    "### Mathematically, why should we expect the MLE from fitting a logistic regression is any good for prediction?"
   ]
  },
  {
   "cell_type": "markdown",
   "metadata": {},
   "source": [
    "(I flopped on this one during the interview and haven't yet had a chance to think deeply about it.)"
   ]
  },
  {
   "cell_type": "markdown",
   "metadata": {},
   "source": [
    "### In pure Python, write a histogram calculation function (not plotting, just relative frequency calculations)."
   ]
  },
  {
   "cell_type": "code",
   "execution_count": 1,
   "metadata": {},
   "outputs": [],
   "source": [
    "import math\n",
    "\n",
    "def histogram(x, n_bins):\n",
    "    bin_width = max(x) - min(x)\n",
    "    bin_left_endpoints = [min(x) + i * bin_width for i in range(n_bins)]\n",
    "    bin_counts = [0] * n_bins\n",
    "    for element in x:\n",
    "        j = math.floor((element - min(x)) / bin_width)\n",
    "        bin_counts[j] += 1\n",
    "    return [count / len(x) for count in bin_counts]"
   ]
  }
 ],
 "metadata": {
  "kernelspec": {
   "display_name": "Python 3",
   "language": "python",
   "name": "python3"
  },
  "language_info": {
   "codemirror_mode": {
    "name": "ipython",
    "version": 3
   },
   "file_extension": ".py",
   "mimetype": "text/x-python",
   "name": "python",
   "nbconvert_exporter": "python",
   "pygments_lexer": "ipython3",
   "version": "3.6.6"
  }
 },
 "nbformat": 4,
 "nbformat_minor": 2
}
